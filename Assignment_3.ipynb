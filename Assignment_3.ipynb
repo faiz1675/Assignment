{
 "cells": [
  {
   "cell_type": "code",
   "execution_count": 1,
   "id": "de0c1b67-5ccd-479b-aa96-c9ba31c9c9cd",
   "metadata": {},
   "outputs": [
    {
     "name": "stdout",
     "output_type": "stream",
     "text": [
      "Sum= 55\n",
      "Product= 3628800\n",
      "Sum= 55\n",
      "Product= 3628800\n"
     ]
    }
   ],
   "source": [
    "#Q-2. Write a python program to print the sum and product of the first 10 natural numbers using for and while loop\n",
    "#Program using for loop\n",
    "s=0\n",
    "p=1\n",
    "for i in range(1,11):\n",
    "    s=s+i\n",
    "    p=p*i\n",
    "print(\"Sum=\",s)\n",
    "print(\"Product=\",p)\n",
    "\n",
    "#Program using while loop\n",
    "s=0\n",
    "p=1\n",
    "i=1\n",
    "while i<=10:\n",
    "    s=s+i\n",
    "    p=p*i\n",
    "    i=i+1\n",
    "print(\"Sum=\",s)\n",
    "print(\"Product=\",p)"
   ]
  },
  {
   "cell_type": "markdown",
   "id": "5b089875-de1a-4b0d-ad18-4cb097b4ee55",
   "metadata": {},
   "source": [
    "Q1. Explain with an example each when to use a for loop and a while loop.\n",
    "Ans- for loop is used when number of iteration is known and while loop is used when number of iteration is not known in advance.\n",
    "Syntax of for loop: for iteration variable in sequence:\n",
    "                        (statements)\n",
    "Example- for i in range(5):\n",
    "            print(i)\n",
    "Syntax of while loop: while (expression):\n",
    "                            (statements)\n",
    "Example-  i=1\n",
    "          while i<5:\n",
    "              print(i)"
   ]
  },
  {
   "cell_type": "code",
   "execution_count": 6,
   "id": "6d222650-2573-46d1-b3a3-966b03a4e274",
   "metadata": {},
   "outputs": [
    {
     "name": "stdin",
     "output_type": "stream",
     "text": [
      "Enter your electricity bill in unit 310\n"
     ]
    },
    {
     "name": "stdout",
     "output_type": "stream",
     "text": [
      "2250.0\n"
     ]
    }
   ],
   "source": [
    "#Q-3. Create a python program to compute the electricity bill for a household.\n",
    "bill=int(input(\"Enter your electricity bill in unit\"))\n",
    "totalPrice=0\n",
    "i=1\n",
    "while i<=bill:\n",
    "    if i<=100:\n",
    "        totalPrice=totalPrice+4.5\n",
    "    elif i<=200:\n",
    "        totalPrice=totalPrice+6\n",
    "    elif i<=300:\n",
    "        totalPrice=totalPrice+10\n",
    "    else:\n",
    "        totalPrice=totalPrice+20\n",
    "    i=i+1\n",
    "print(totalPrice)"
   ]
  },
  {
   "cell_type": "code",
   "execution_count": 2,
   "id": "c560be59-4917-4f3f-bb7c-dba45f239dad",
   "metadata": {},
   "outputs": [
    {
     "data": {
      "text/plain": [
       "[8,\n",
       " 64,\n",
       " 125,\n",
       " 216,\n",
       " 512,\n",
       " 1000,\n",
       " 1728,\n",
       " 2744,\n",
       " 3375,\n",
       " 4096,\n",
       " 5832,\n",
       " 8000,\n",
       " 10648,\n",
       " 13824,\n",
       " 15625,\n",
       " 17576,\n",
       " 21952,\n",
       " 27000,\n",
       " 32768,\n",
       " 39304,\n",
       " 42875,\n",
       " 46656,\n",
       " 54872,\n",
       " 64000,\n",
       " 74088,\n",
       " 85184,\n",
       " 91125,\n",
       " 97336,\n",
       " 110592,\n",
       " 125000,\n",
       " 140608,\n",
       " 157464,\n",
       " 166375,\n",
       " 175616,\n",
       " 195112,\n",
       " 216000,\n",
       " 238328,\n",
       " 262144,\n",
       " 274625,\n",
       " 287496,\n",
       " 314432,\n",
       " 343000,\n",
       " 373248,\n",
       " 405224,\n",
       " 421875,\n",
       " 438976,\n",
       " 474552,\n",
       " 512000,\n",
       " 551368,\n",
       " 592704,\n",
       " 614125,\n",
       " 636056,\n",
       " 681472,\n",
       " 729000,\n",
       " 778688,\n",
       " 830584,\n",
       " 857375,\n",
       " 884736,\n",
       " 941192,\n",
       " 1000000]"
      ]
     },
     "execution_count": 2,
     "metadata": {},
     "output_type": "execute_result"
    }
   ],
   "source": [
    "# Q-4. Create a list of numbers from 1 to 100. Use for loop and while loop to calculate the cube of each\n",
    "# number and if the cube of that number is divisible by 4 or 5 then append that number in a list and print\n",
    "# that list.\n",
    "l=[]\n",
    "nl=[]\n",
    "for i in range(1,101):\n",
    "    l.append(i)\n",
    "for i in l:\n",
    "    cube=i*i*i\n",
    "    if cube%4==0 or cube%5==0:\n",
    "        nl.append(cube)\n",
    "nl\n"
   ]
  },
  {
   "cell_type": "code",
   "execution_count": 3,
   "id": "8a83b69b-980c-4fbe-8d73-78529139eecf",
   "metadata": {},
   "outputs": [
    {
     "name": "stdout",
     "output_type": "stream",
     "text": [
      "Total number of vowels in given string is =  12\n"
     ]
    }
   ],
   "source": [
    "#Q-5.Write a program to filter count vowels in the below-given string.string = \"I want to become a data scientist\"\n",
    "string=\"I want to become a data scientist\"\n",
    "count=0\n",
    "for i in range(len(string)):\n",
    "    if (string[i]=='a' or string[i]=='e' or string[i]=='i' or string[i]=='I' or string[i]=='o' or string[i]=='u'):\n",
    "        count=count+1\n",
    "print(\"Total number of vowels in given string is = \",count)"
   ]
  },
  {
   "cell_type": "code",
   "execution_count": null,
   "id": "1b272931-84dc-4978-b79e-dcb6c81d7272",
   "metadata": {},
   "outputs": [],
   "source": []
  }
 ],
 "metadata": {
  "kernelspec": {
   "display_name": "Python 3 (ipykernel)",
   "language": "python",
   "name": "python3"
  },
  "language_info": {
   "codemirror_mode": {
    "name": "ipython",
    "version": 3
   },
   "file_extension": ".py",
   "mimetype": "text/x-python",
   "name": "python",
   "nbconvert_exporter": "python",
   "pygments_lexer": "ipython3",
   "version": "3.10.8"
  }
 },
 "nbformat": 4,
 "nbformat_minor": 5
}
