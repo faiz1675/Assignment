{
 "cells": [
  {
   "cell_type": "markdown",
   "id": "0407a208-04ef-4638-96e5-df1bcbbfe3d2",
   "metadata": {},
   "source": [
    "Q1. What is an Exception in python? Write the difference between Exceptions and Syntax errors\n",
    "\n",
    "Exception in python is the error which terminates the normal flow of the program during the program execution.\n",
    "\n",
    "Exceptions - Exceptions are raised when the program is syntactically correct, but the code results in an error. This error does not stop the execution of the program, however, it changes the normal flow of the program.\n",
    "Syntax Error: This error is caused by the wrong syntax in the code. It leads to the termination of the program. "
   ]
  },
  {
   "cell_type": "markdown",
   "id": "53d1f374-2534-4ad7-80af-1eb5896d991b",
   "metadata": {},
   "source": [
    "Q2. What happens when an exception is not handled? Explain with an example.\n",
    "\n",
    "If the exception is not caught the run time system will abort the program and an exception message will display on the console. The program will not execute further.\n",
    "\n",
    "Example:\n",
    "try:\n",
    "    a=5\n",
    "    b=5\n",
    "    print(a/b)"
   ]
  },
  {
   "cell_type": "code",
   "execution_count": null,
   "id": "5dcc8fed-0463-46b2-8c8a-18112444c651",
   "metadata": {},
   "outputs": [],
   "source": [
    "# Q3. Which Python statements are used to catch and handle exceptions? Explain with an example.\n",
    "\n",
    "# try and except statements are used to catch and handle exceptions.\n",
    "\n",
    "# Example:\n",
    "    try:\n",
    "        a=7\n",
    "        b=0\n",
    "        print(a/b)\n",
    "    except Exception as e:\n",
    "        print(e)"
   ]
  },
  {
   "cell_type": "code",
   "execution_count": null,
   "id": "25e1b5fb-37f7-4458-b422-d6e5e813aef0",
   "metadata": {},
   "outputs": [],
   "source": [
    "# Q4. Explain with an example:\n",
    "#  try and else\n",
    "\n",
    "try:\n",
    "    a=int(input(\"Enter first number\"))\n",
    "    b=int(input(\"Enter second number\"))\n",
    "    print(a/b)\n",
    "except Exception as e:\n",
    "    print(e)\n",
    "else:\n",
    "    print(\"This is else block executed when try block executed succesfully\")\n",
    "    \n",
    "    \n",
    "# finally\n",
    "try:\n",
    "    a=int(input(\"Enter first number\"))\n",
    "    b=int(input(\"Enter second number\"))\n",
    "    print(a/b)\n",
    "except Exception as e:\n",
    "    print(e)\n",
    "finally:\n",
    "    print(\"This is finally block executed when at any cost\")\n",
    "    \n",
    "#raise\n",
    "n=int(input(\"Enter any number\"))\n",
    "if n<0:\n",
    "    raise Exception(\"Only positive number is allowed\")"
   ]
  },
  {
   "cell_type": "code",
   "execution_count": null,
   "id": "e78fa06f-255f-4a61-8388-be5b9a28244b",
   "metadata": {},
   "outputs": [],
   "source": [
    "# Q5. What are Custom Exceptions in python? Why do we need Custom Exceptions? Explain with an example.\n",
    "\n",
    "# Custom exceptions means to create our own exceptions and throw the exception using raise keyword.\n",
    "# Custom exceptions add the problems related to the program.\n",
    "\n",
    "class validAge(Exception):\n",
    "    def __init__(self,msg):\n",
    "        self.msg=msg\n",
    "\n",
    "def isvalidAge(age):\n",
    "    if age<0:\n",
    "        raise validAge(\"The age can't be negative\")\n",
    "    else:\n",
    "        print(\"valid age\")"
   ]
  },
  {
   "cell_type": "code",
   "execution_count": null,
   "id": "66d998ab-5da6-4f58-a0dd-ba6b0b1331d5",
   "metadata": {},
   "outputs": [],
   "source": [
    " # Q6. Create a custom exception class. Use this class to handle an exception\n",
    "\n",
    "class validateAmount(Exception):\n",
    "    def __init__(self,msg):\n",
    "        self.msg=msg\n",
    "\n",
    "def isvalidAmount(amnt):\n",
    "    if amnt<0:\n",
    "        raise validateAmount(\"Amount can't be negative\")\n",
    "    else:\n",
    "        print(\"This is valid amount\")\n",
    "try:\n",
    "    amnt=int(input(\"Enter your amount\"))\n",
    "    isvalidAmount(amnt)\n",
    "except validateAmount as v:\n",
    "    print(v)"
   ]
  }
 ],
 "metadata": {
  "kernelspec": {
   "display_name": "Python 3 (ipykernel)",
   "language": "python",
   "name": "python3"
  },
  "language_info": {
   "codemirror_mode": {
    "name": "ipython",
    "version": 3
   },
   "file_extension": ".py",
   "mimetype": "text/x-python",
   "name": "python",
   "nbconvert_exporter": "python",
   "pygments_lexer": "ipython3",
   "version": "3.10.8"
  }
 },
 "nbformat": 4,
 "nbformat_minor": 5
}
