{
 "cells": [
  {
   "cell_type": "code",
   "execution_count": 1,
   "id": "fdbff1e5-b55a-4f3a-89ee-5fe306c77638",
   "metadata": {},
   "outputs": [
    {
     "data": {
      "text/plain": [
       "('Jaguar', 320, 8)"
      ]
     },
     "execution_count": 1,
     "metadata": {},
     "output_type": "execute_result"
    }
   ],
   "source": [
    "#Q-1. Create a vehicle class with an init method having instance variables as name_of_vehicle, max_speed and average_of_vehicle.\n",
    "class Vehicle:\n",
    "    def __init__(self,name_of_vehicle,max_speed,average_of_vehicle):\n",
    "        self.name_of_vehicle=name_of_vehicle\n",
    "        self.max_speed=max_speed\n",
    "        self.average_of_vehicle=average_of_vehicle\n",
    "    def show_VehicleDetails(self):\n",
    "        return self.name_of_vehicle,self.max_speed,self.average_of_vehicle\n",
    "\n",
    "obj_vehicle=Vehicle(\"Jaguar\",320,8)\n",
    "obj_vehicle.show_VehicleDetails()\n"
   ]
  },
  {
   "cell_type": "code",
   "execution_count": 15,
   "id": "a4c7e817-bfed-42f0-b597-4d1739b5720c",
   "metadata": {},
   "outputs": [
    {
     "data": {
      "text/plain": [
       "('Odi', 4)"
      ]
     },
     "execution_count": 15,
     "metadata": {},
     "output_type": "execute_result"
    }
   ],
   "source": [
    "#Q-2.  Create a child class car from the vehicle class created in Que 1, which will inherit the vehicle class. \n",
    "#Create a method named seating_capacity which takes capacity as an argument and returns the name of the vehicle and its seating capacity\n",
    "class Child_Vehicle(Vehicle):\n",
    "    def seating_Capacity(self,capacity):\n",
    "        return self.name_of_vehicle,capacity\n",
    "c1=Child_Vehicle(\"Odi\",230,12)\n",
    "c1.seating_Capacity(4)"
   ]
  },
  {
   "cell_type": "code",
   "execution_count": 18,
   "id": "5d2319a7-2f78-4463-b08c-10ce70019209",
   "metadata": {},
   "outputs": [
    {
     "name": "stdout",
     "output_type": "stream",
     "text": [
      "This is child class\n",
      "This is class of Parent 2\n"
     ]
    }
   ],
   "source": [
    "#Q-3. What is multiple inheritance? Write a python code to demonstrate multiple inheritance.\n",
    "#Ans- When a class derive or inherit the property of more than one class is known as the multiple inheritence\n",
    "class Parent1:\n",
    "    def test_parent1(self):\n",
    "        print(\"This is class of Parent 1\")\n",
    "class Parent2:\n",
    "    def test_parent2(self):\n",
    "        print(\"This is class of Parent 2\")\n",
    "        \n",
    "class Child(Parent1,Parent2):\n",
    "    def test_child(self):\n",
    "        print(\"This is child class\")\n",
    "obj_child=Child()\n",
    "obj_child.test_child()\n",
    "obj_child.test_parent2()"
   ]
  },
  {
   "cell_type": "code",
   "execution_count": 27,
   "id": "906c7de1-1020-478d-81f0-0ed6515a2713",
   "metadata": {},
   "outputs": [],
   "source": [
    "#Q-4. What are getter and setter in python? Create a class and create a getter and a setter method in this class\n",
    "# Ans- We use getter and setter in the python to add validation logic around getting and setting value. \n",
    "# It avoid direct access of the class field, that is a private variables cannot be accessed directly or modified by the external user.\n",
    "\n",
    "class Student:\n",
    "    def __init__(self,age):\n",
    "        self.__age=age\n",
    "    def showAge(self):\n",
    "        return self.__age\n",
    "    def set_Age(self,newAge):\n",
    "        self.__age=newAge\n",
    "objStud=Student(22)\n",
    "objStud.showAge()\n",
    "objStud.set_Age(25)"
   ]
  },
  {
   "cell_type": "code",
   "execution_count": 31,
   "id": "18874a28-2e0e-413d-8c85-f98c293c1cd4",
   "metadata": {},
   "outputs": [
    {
     "name": "stdout",
     "output_type": "stream",
     "text": [
      "This is Inside Child Class\n",
      "This is Inside Parent Class\n"
     ]
    }
   ],
   "source": [
    "#Q-5. What is method overriding in python? Write a python code to demonstrate method overriding \n",
    "# Ans- Method overriding is an ability of any object-oriented programming language that allows a subclass or child class to provide a specific implementation of a method that is already provided by one of its super-classes or parent classes.\n",
    "# When a method in a subclass has the same name, same parameters or signature and same return type(or sub-type) as a method in its super-class, then the method in the subclass is said to override the method in the super-class.\n",
    "\n",
    "class Parent:\n",
    "    def __init__(self):\n",
    "        self.value=\"This is Inside Parent Class\"\n",
    "    def show(self):\n",
    "        print(self.value)\n",
    "class Child(Parent):\n",
    "    def __init__(self):\n",
    "        self.value=\"This is Inside Child Class\"\n",
    "    def show(self):\n",
    "        print(self.value)\n",
    "ob_Parent=Parent()\n",
    "ob_Child=Child()\n",
    "ob_Child.show()\n",
    "ob_Parent.show()"
   ]
  },
  {
   "cell_type": "code",
   "execution_count": null,
   "id": "89dd7e93-d963-4821-b8e1-b9d9257397f4",
   "metadata": {},
   "outputs": [],
   "source": []
  }
 ],
 "metadata": {
  "kernelspec": {
   "display_name": "Python 3 (ipykernel)",
   "language": "python",
   "name": "python3"
  },
  "language_info": {
   "codemirror_mode": {
    "name": "ipython",
    "version": 3
   },
   "file_extension": ".py",
   "mimetype": "text/x-python",
   "name": "python",
   "nbconvert_exporter": "python",
   "pygments_lexer": "ipython3",
   "version": "3.10.8"
  }
 },
 "nbformat": 4,
 "nbformat_minor": 5
}
