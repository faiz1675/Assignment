{
 "cells": [
  {
   "cell_type": "code",
   "execution_count": 2,
   "id": "a0a2e890-9b72-4f07-9b96-ad284e58d363",
   "metadata": {},
   "outputs": [
    {
     "name": "stdin",
     "output_type": "stream",
     "text": [
      "Enter your marks 45\n"
     ]
    },
    {
     "name": "stdout",
     "output_type": "stream",
     "text": [
      "Grade D\n"
     ]
    }
   ],
   "source": [
    "#Q-1. Write a program to accept percentage from the user and display the grade according to the following criteria\n",
    "\n",
    "marks=int(input(\"Enter your marks\"))\n",
    "if marks>90:\n",
    "    print(\"Grade A\")\n",
    "elif marks>80 and marks<=90:\n",
    "    print(\"Grade B\")\n",
    "elif marks>=60 and marks<=80:\n",
    "    print(\"Grade C\")\n",
    "else:\n",
    "    print(\"Grade D\")"
   ]
  },
  {
   "cell_type": "code",
   "execution_count": 5,
   "id": "a550714c-8403-42c5-8b7c-1d5af0f7efcd",
   "metadata": {},
   "outputs": [
    {
     "name": "stdin",
     "output_type": "stream",
     "text": [
      "Enter the cost price of bike 40000\n"
     ]
    },
    {
     "name": "stdout",
     "output_type": "stream",
     "text": [
      "Road Tax= 2000.0\n"
     ]
    }
   ],
   "source": [
    "#Q-2 Write a program to accept the cost price of a bike and display the road tax to be paid accordingly to the following criteria\n",
    "\n",
    "costPrice=int(input(\"Enter the cost price of bike\"))\n",
    "if costPrice>100000:\n",
    "    tax=(15/100)*costPrice\n",
    "    print(\"Road Tax=\",tax)\n",
    "elif costPrice>50000 and costPrice<=100000:\n",
    "    tax=(10/100)*costPrice\n",
    "    print(\"Road Tax=\",tax)\n",
    "else:\n",
    "    tax=(5/100)*costPrice\n",
    "    print(\"Road Tax=\",tax)"
   ]
  },
  {
   "cell_type": "code",
   "execution_count": 8,
   "id": "c144e803-eb89-4e5f-a97f-d92dbd243d84",
   "metadata": {},
   "outputs": [
    {
     "name": "stdin",
     "output_type": "stream",
     "text": [
      "Enter any city Delhi\n"
     ]
    },
    {
     "name": "stdout",
     "output_type": "stream",
     "text": [
      "Red Fort\n"
     ]
    }
   ],
   "source": [
    "#Q-3. Accept any city from the user and display monuments of that city.\n",
    "city=input(\"Enter any city\")\n",
    "if city=='Delhi':\n",
    "    print(\"Red Fort\")\n",
    "elif city=='Agra':\n",
    "    print(\"Taj Mahal\")\n",
    "elif city=='Jaipur':\n",
    "    print(\"Jal Mahal\")\n",
    "else:\n",
    "    print(\"Enter valid city\")"
   ]
  },
  {
   "cell_type": "code",
   "execution_count": 10,
   "id": "7ea93bac-61fd-4d35-aed5-d5a00272d935",
   "metadata": {},
   "outputs": [
    {
     "name": "stdin",
     "output_type": "stream",
     "text": [
      "Enter any number 27\n"
     ]
    },
    {
     "name": "stdout",
     "output_type": "stream",
     "text": [
      "1\n"
     ]
    }
   ],
   "source": [
    "#Q-4.Check how many times a given number can bve divided by 3 before it is less than or equal to 10\n",
    "count=0\n",
    "num=int(input(\"Enter any number\"))\n",
    "while num>10:\n",
    "    num=num/3\n",
    "    count =count+1\n",
    "print(count)"
   ]
  },
  {
   "cell_type": "markdown",
   "id": "b795cad0-9e7b-4f36-a820-c99581cb39d3",
   "metadata": {},
   "source": [
    "#Q-5. Why and when to use while loop in Python give a detailed description with examples.\n",
    "Ans - While Loop is used to execute a block of statements repeatedly until a given condition is satisfied and when the condition becomes false, the line immediately after the loop in the program is executed.\n",
    "While loop is used when the number of iteration is not predefined in a loop.\n",
    "Syntax - while (expression):\n",
    "            statements\n",
    "Example - program to print the number from 1 to 10\n",
    "            i=1\n",
    "            while i<=10:\n",
    "                print(i)\n",
    "                i=i+1"
   ]
  },
  {
   "cell_type": "code",
   "execution_count": 19,
   "id": "5a835ac0-8e29-486b-8a64-fb6196905a82",
   "metadata": {},
   "outputs": [
    {
     "name": "stdout",
     "output_type": "stream",
     "text": [
      "*  *  *  *  *  \n",
      "\n",
      "*  *  *  *  *  \n",
      "\n",
      "*  *  *  *  *  \n",
      "\n",
      "*  *  *  *  *  \n",
      "\n",
      "*  *  *  *  *  \n",
      "\n"
     ]
    }
   ],
   "source": [
    "#Q-6. Use nested while loop to print 3 different pattern---- \n",
    "#First pattern\n",
    "i=0\n",
    "while i<5:\n",
    "    j=0\n",
    "    while j<5:\n",
    "        print(\"* \" ,end=\" \")\n",
    "        j=j+1\n",
    "    print(\"\\n\")\n",
    "    i=i+1"
   ]
  },
  {
   "cell_type": "code",
   "execution_count": 21,
   "id": "6765b47a-5736-4a39-a6ae-e5d17e05a3c2",
   "metadata": {},
   "outputs": [
    {
     "name": "stdout",
     "output_type": "stream",
     "text": [
      "*  \n",
      "\n",
      "*  *  \n",
      "\n",
      "*  *  *  \n",
      "\n",
      "*  *  *  *  \n",
      "\n",
      "*  *  *  *  *  \n",
      "\n"
     ]
    }
   ],
   "source": [
    "#Q-6. Second pattern\n",
    "i=0\n",
    "while i<5:\n",
    "    j=0\n",
    "    while j<=i:\n",
    "        print(\"* \",end=\" \")\n",
    "        j=j+1\n",
    "    print(\"\\n\")\n",
    "    i=i+1"
   ]
  },
  {
   "cell_type": "code",
   "execution_count": 23,
   "id": "aaa438b9-7daa-4444-9687-aead4f709a7e",
   "metadata": {},
   "outputs": [
    {
     "name": "stdout",
     "output_type": "stream",
     "text": [
      "*  *  *  *  *  \n",
      "\n",
      "*  *  *  *  \n",
      "\n",
      "*  *  *  \n",
      "\n",
      "*  *  \n",
      "\n",
      "*  \n",
      "\n"
     ]
    }
   ],
   "source": [
    "#Q-6. Third pattern\n",
    "i=5\n",
    "while i>=1:\n",
    "    j=0\n",
    "    while j<i:\n",
    "        print(\"* \",end=\" \")\n",
    "        j=j+1\n",
    "    print(\"\\n\")\n",
    "    i=i-1\n",
    "    \n",
    "    "
   ]
  },
  {
   "cell_type": "code",
   "execution_count": 24,
   "id": "8b54722b-1076-4a06-b7b0-6b9dabe92c6b",
   "metadata": {},
   "outputs": [
    {
     "name": "stdout",
     "output_type": "stream",
     "text": [
      "10\n",
      "9\n",
      "8\n",
      "7\n",
      "6\n",
      "5\n",
      "4\n",
      "3\n",
      "2\n",
      "1\n"
     ]
    }
   ],
   "source": [
    "#Q-7. Reverse a while loop to display numbers from 10 to 1\n",
    "i=10\n",
    "while i>0:\n",
    "    print(i)\n",
    "    i=i-1"
   ]
  },
  {
   "cell_type": "code",
   "execution_count": null,
   "id": "7a768945-d1bb-4021-a631-8c1d28721a19",
   "metadata": {},
   "outputs": [],
   "source": [
    "#Q-8. Reverse a while loop to display numbers from 10 to 1\n",
    "i=10\n",
    "while i>0:\n",
    "    print(i)\n",
    "    i=i-1"
   ]
  }
 ],
 "metadata": {
  "kernelspec": {
   "display_name": "Python 3 (ipykernel)",
   "language": "python",
   "name": "python3"
  },
  "language_info": {
   "codemirror_mode": {
    "name": "ipython",
    "version": 3
   },
   "file_extension": ".py",
   "mimetype": "text/x-python",
   "name": "python",
   "nbconvert_exporter": "python",
   "pygments_lexer": "ipython3",
   "version": "3.10.8"
  }
 },
 "nbformat": 4,
 "nbformat_minor": 5
}
