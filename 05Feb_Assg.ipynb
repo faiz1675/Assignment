{
 "cells": [
  {
   "cell_type": "markdown",
   "id": "d25313e4-bf93-4df2-8336-65e738c9b5d5",
   "metadata": {},
   "source": [
    "Q-1. Explain Class and Object with respect to Object-Oriented Programming. Give a suitable example.\n",
    "Ans- Classes are user-defined data types that act as the blueprint for individual objects, attributes and methods.\n",
    "Objects are instances of a class created with specifically defined data. Objects can correspond to real-world objects or an abstract entity \n",
    "\n",
    "For example: \n",
    "\n",
    "  class Student:\n",
    "      def __init__(self,name,class,roll):\n",
    "          self.name=name\n",
    "          self.class=class\n",
    "          self.roll=roll\n",
    "      def studentDetails(self):\n",
    "          return self.name,self.class,self.roll\n",
    "    \n",
    "    std1=student(\"Faiz\",\"MCA\",188)"
   ]
  },
  {
   "cell_type": "markdown",
   "id": "42085c44-9b76-4a1f-9346-43c01c9e40ed",
   "metadata": {},
   "source": [
    "Q-2. Name the four pillars of OOPs\n",
    "Ans- Following are the four pillars of OOPs:-\n",
    "    1. Abstraction\n",
    "    2. Encapsulation\n",
    "    3. Inheritence\n",
    "    4. Polymorphism"
   ]
  },
  {
   "cell_type": "markdown",
   "id": "7076fb49-91e2-4d51-afe7-c84706ffec02",
   "metadata": {},
   "source": [
    "Q-3. Explain why the __init__() function is used. Give a suitable example\n",
    "Ans- __init__ is a special method in python which will execute whenever the object of that class is created.\n",
    "__init__ function is used to initialise the attributes of the class.\n",
    "Python uses the __init__ method as a constructor to initialize the data members when an object is created for the class.\n",
    "\n",
    "Example- \n",
    "        class Employee:\n",
    "            def __init__(self,empId,name,dept):\n",
    "                self.empId=empId\n",
    "                self.name=name\n",
    "                self.dept=dept\n",
    "            def employeeDetails(self)\n",
    "                return self.empId,self.name,self.dept\n",
    "            \n",
    "        emp=Employee(101,\"Mike\",\"Marketing\")\n",
    "        print(emp.employDetails())"
   ]
  },
  {
   "cell_type": "markdown",
   "id": "c9386a19-3ef2-4589-a5e1-4de9a9cf0db2",
   "metadata": {},
   "source": [
    "Q-4.  Why self is used in OOPs ?\n",
    "Ans- self represents the instance of the class. By using the “self”  we can access the attributes and methods of the class in python. It binds the attributes with the given arguments.\n",
    "The reason we need to use self is because Python does not use the @ syntax to refer to instance attributes. Python decided to do methods in a way that makes the instance to which the method belongs be passed automatically, but not received automatically: the first parameter of methods is the instance the method is called on.\n",
    "self is always pointing to the current object."
   ]
  },
  {
   "cell_type": "code",
   "execution_count": 4,
   "id": "177f7883-68ff-47fd-bced-b555fac9ecec",
   "metadata": {},
   "outputs": [
    {
     "name": "stdout",
     "output_type": "stream",
     "text": [
      "This is parent class\n",
      "This is class of grand parent\n",
      "This is class of parent\n",
      "This is class of parent1\n"
     ]
    }
   ],
   "source": [
    "# Q-5. What is inheritance? Give an example for each type of inheritance.\n",
    "# Inheritence is the capability of a class to derive or inherit the properties of the another class.\n",
    "# Example of single level inheritence\n",
    "class Parent:\n",
    "    def test_Parent(self):\n",
    "        print(\"This is parent class\")\n",
    "    \n",
    "class Child(Parent):\n",
    "    def test_Child(self):\n",
    "        print(\"This is child class\")\n",
    "    \n",
    "obj=Child()\n",
    "obj.test_Parent()\n",
    "\n",
    "#Example of multilevel inheritence\n",
    "class GrandParent:\n",
    "    def test_Gp(self):\n",
    "        print(\"This is class of grand parent\")\n",
    "\n",
    "class Parent(GrandParent):\n",
    "    def test_Parent(self):\n",
    "        print(\"This is class of parent\")\n",
    "        \n",
    "class Child(Parent):\n",
    "    def test_Child(self):\n",
    "        print(\"This is class of child\")\n",
    "\n",
    "obj=Child()\n",
    "obj.test_Gp()\n",
    "obj.test_Parent()\n",
    "\n",
    "#Example of multiple inheritence\n",
    "class Parent1:\n",
    "    def test_Parent1(self):\n",
    "        print(\"This is class of parent1\")\n",
    "\n",
    "class Parent2:\n",
    "    def test_Parent2(self):\n",
    "        print(\"This is class of parent2\")\n",
    "        \n",
    "class child(Parent1,Parent2):\n",
    "    def test_child(self):\n",
    "        print(\"This is class of child\")\n",
    "        \n",
    "obj=child()\n",
    "obj.test_Parent1()\n",
    "obj.test_Parent2()"
   ]
  },
  {
   "cell_type": "code",
   "execution_count": null,
   "id": "f38e1877-20a7-4b37-8bd8-15fdd17e3e67",
   "metadata": {},
   "outputs": [],
   "source": []
  }
 ],
 "metadata": {
  "kernelspec": {
   "display_name": "Python 3 (ipykernel)",
   "language": "python",
   "name": "python3"
  },
  "language_info": {
   "codemirror_mode": {
    "name": "ipython",
    "version": 3
   },
   "file_extension": ".py",
   "mimetype": "text/x-python",
   "name": "python",
   "nbconvert_exporter": "python",
   "pygments_lexer": "ipython3",
   "version": "3.10.8"
  }
 },
 "nbformat": 4,
 "nbformat_minor": 5
}
