{
 "cells": [
  {
   "cell_type": "markdown",
   "id": "24b5761f-32dd-4934-b0f5-40cf477af8c9",
   "metadata": {},
   "source": [
    "Q1. Which function is used to open a file? What are the different modes of opening a file? Explain each mode\n",
    "of file opening.\n",
    "\n",
    "fopen() function is used to open a file.\n",
    "Following are the different modes of file opening:-\n",
    "1--> Read Only ('r’): This mode opens the text files for reading only. The start of the file is where the handle is located. It raises the I/O error if the file does not exist. This is the default mode for opening files as well.\n",
    "2--> Read and Write ('r+’): This method opens the file for both reading and writing. The start of the file is where the handle is located. If the file does not exist, an I/O error gets raised.\n",
    "3--> Write Only ('w’): This mode opens the file for writing only. The data in existing files are modified and overwritten. The start of the file is where the handle is located. If the file does not already exist in the folder, a new one gets created.\n",
    "4--> Write and Read ('w+’): This mode opens the file for both reading and writing. The text is overwritten and deleted from an existing file. The start of the file is where the handle is located.\n",
    "5--> Append Only ('a’): This mode allows the file to be opened for writing. If the file doesn't yet exist, a new one gets created. The handle is set at the end of the file. The newly written data will be added at the end, following the previously written data.\n",
    "6--> Append and Read (‘a+’): Using this method, you can read and write in the file. If the file doesn't already exist, one gets created. The handle is set at the end of the file. The newly written text will be added at the end, following the previously written data."
   ]
  },
  {
   "cell_type": "markdown",
   "id": "2273d686-f4f3-4e39-8ee7-f7763b0eaa14",
   "metadata": {},
   "source": [
    "Q2. Why close() function is used? Why is it important to close a file?\n",
    "\n",
    "The close() method closes an open file.\n",
    "It is important to close a file because in some cases, due to buffering, changes made to a file may not show until you close the file. It also occupies the resources of the system untill we close a file"
   ]
  },
  {
   "cell_type": "code",
   "execution_count": 2,
   "id": "e45282d1-e088-4da4-ac5a-016582586e5c",
   "metadata": {},
   "outputs": [
    {
     "name": "stdout",
     "output_type": "stream",
     "text": [
      "I want to become a Data Scientist\n"
     ]
    }
   ],
   "source": [
    "# Q3. Write a python program to create a text file. Write ‘I want to become a Data Scientist’ in that file.\n",
    "# Then close the file. Open this file and read the content of the file.  \n",
    "import os\n",
    "f=open('file1.txt','w')\n",
    "f.write(\"I want to become a Data Scientist\")\n",
    "f.close()\n",
    "f=open('file1.txt','r')\n",
    "st=f.read()\n",
    "print(st)\n",
    "f.close()\n"
   ]
  },
  {
   "cell_type": "code",
   "execution_count": 7,
   "id": "233967e9-e0b2-4e7c-818b-7bde8a187594",
   "metadata": {},
   "outputs": [
    {
     "name": "stdout",
     "output_type": "stream",
     "text": [
      "I want to become a Data Scientist\n",
      "\n"
     ]
    }
   ],
   "source": [
    "# Q4. Explain the following with python code: read(), readline() and readlines()\n",
    "# read() ---> This functions returns all the characters present in a file in the form of string.\n",
    "f=open('file1.txt','r')\n",
    "# st=f.read()\n",
    "# print(st)\n",
    "# readline() ---> This function returns the characters line by line\n",
    "st1=f.readline()\n",
    "print(st1)\n",
    "#readlines--> This functions return the line by line characters in a list.\n",
    "st2=f.readlines()\n",
    "print(st2)\n",
    "f.close()"
   ]
  },
  {
   "cell_type": "markdown",
   "id": "74bd1eb6-0490-4ff5-9762-37f55ecf7cc8",
   "metadata": {},
   "source": [
    "Q5. Explain why with statement is used with open(). What is the advantage of using with statement and\n",
    "open() together?\n",
    "\n",
    "The with statement closes the file even without telling to it.\n",
    "It simplifies the management of common resources like file streams. "
   ]
  },
  {
   "cell_type": "code",
   "execution_count": 9,
   "id": "60953b3f-e092-42de-a5b9-e161320bf3e0",
   "metadata": {},
   "outputs": [],
   "source": [
    "# Q6. Explain the write() and writelines() functions. Give a suitable example.\n",
    "\n",
    "# write() --> The write() function will write the content in the file without adding any extra characters\n",
    "f=open('file2.txt','w')\n",
    "f.write(\"Hello, how are you doing\")\n",
    "f.close()\n",
    "\n",
    "#writelines() --> This function writes the content of a list to a file.\n",
    "f1=open('file3.txt','w')\n",
    "f1.writelines(['Hello my name is faiz','I am pursuing MCA','I want to become DataScientist'])\n",
    "f1.close()"
   ]
  }
 ],
 "metadata": {
  "kernelspec": {
   "display_name": "Python 3 (ipykernel)",
   "language": "python",
   "name": "python3"
  },
  "language_info": {
   "codemirror_mode": {
    "name": "ipython",
    "version": 3
   },
   "file_extension": ".py",
   "mimetype": "text/x-python",
   "name": "python",
   "nbconvert_exporter": "python",
   "pygments_lexer": "ipython3",
   "version": "3.10.8"
  }
 },
 "nbformat": 4,
 "nbformat_minor": 5
}
