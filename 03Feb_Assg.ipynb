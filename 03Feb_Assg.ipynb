{
 "cells": [
  {
   "cell_type": "code",
   "execution_count": 1,
   "id": "4d6d1070-d085-406c-8a51-dc0e2d7d89dc",
   "metadata": {},
   "outputs": [
    {
     "data": {
      "text/plain": [
       "[1, 3, 5, 7, 9, 11, 13, 15, 17, 19, 21, 23, 25]"
      ]
     },
     "execution_count": 1,
     "metadata": {},
     "output_type": "execute_result"
    }
   ],
   "source": [
    "#Q-1. Which keyword is used to create a function? Create a function to return a list of odd numbers in the range of 1 to 25\n",
    "# Ans- def keyword is used to create a function\n",
    "# function to return a list of odd numbers in the range of 1 to 25\n",
    "def odd():\n",
    "    l1=[]\n",
    "    for i in range(1,26):\n",
    "        if i%2!=0:\n",
    "            l1.append(i)\n",
    "    return l1\n",
    "odd()"
   ]
  },
  {
   "cell_type": "code",
   "execution_count": 11,
   "id": "c5dfb28a-b4b5-47be-ab9c-54cba4463f55",
   "metadata": {},
   "outputs": [
    {
     "name": "stdout",
     "output_type": "stream",
     "text": [
      "(3, 5, 7)\n",
      "{'name': 'Faiz', 'dept': 'MCA', 'age': 22}\n"
     ]
    }
   ],
   "source": [
    "#Q-2. Why *args and **kwargs is used in some functions? Create a function each for *args and **kwargs to demonstrate their use\n",
    "# Ans- We use *args and **kwargs as argument of a function when we are unsure about the number of arguments to pass to the function\n",
    "# *args allows us to pass a variable number of non-keyword arguments to a Python function\n",
    "# Example\n",
    "def fun(*args):\n",
    "    print(args)\n",
    "\n",
    "fun(3,5,7)\n",
    "\n",
    "# **kwargs allows us to pass a variable number of keyword arguments to a Python function\n",
    "# In this case, the arguments are passed as a dictionary and these arguments make a dictionary inside the function\n",
    "# Example\n",
    "def details(**kwargs):\n",
    "    print(kwargs)\n",
    "\n",
    "details(name=\"Faiz\",dept=\"MCA\",age=22)"
   ]
  },
  {
   "cell_type": "code",
   "execution_count": 33,
   "id": "90be0082-9dde-4347-a1ca-d81015ce4380",
   "metadata": {},
   "outputs": [
    {
     "name": "stdout",
     "output_type": "stream",
     "text": [
      "2\n",
      "4\n",
      "6\n",
      "8\n",
      "10\n"
     ]
    }
   ],
   "source": [
    "#Q-3.  What is an iterator in python? Name the method used to initialise the iterator object and the method used for iteration.\n",
    "# An iterator is an object that can be iterated upon, it means whcih can be traverse through all the values.\n",
    "# iter() method is used to initialise hte iterator object\n",
    "# next() method is used for the iteration\n",
    "#Use these methods to print the first five elements of the given list [2, 4, 6, 8, 10, 12, 14, 16, 18, 20]\n",
    "l=[2,4,6,8,10,12,14,16,18,20]\n",
    "itrL=iter(l)\n",
    "print(next(itrL))\n",
    "print(next(itrL))\n",
    "print(next(itrL))\n",
    "print(next(itrL))\n",
    "print(next(itrL))"
   ]
  },
  {
   "cell_type": "code",
   "execution_count": 34,
   "id": "0871fa58-bad2-4a9a-a383-cfd08ad153cb",
   "metadata": {},
   "outputs": [
    {
     "name": "stdout",
     "output_type": "stream",
     "text": [
      "0\n",
      "2\n",
      "4\n",
      "6\n",
      "8\n"
     ]
    }
   ],
   "source": [
    "#Q-4. What is a generator function in python? Why yield keyword is used? Give an example of a generator function\n",
    "#Python generators are the functions that return the traversal object and used to create iterators. It traverses the entire items at once\n",
    "# If the body of any function contains a yield statement, it automatically becomes a generator function\n",
    "# The yield keyword is responsible for controlling the flow of the generator function and throw the data to the caller.\n",
    "# It pauses the function execution by saving all states and yielded to the caller. Later it resumes execution when a successive function is called.\n",
    "# Example\n",
    "def even_Num(n):\n",
    "    for i in range(n):\n",
    "        if i%2==0:\n",
    "            yield i\n",
    "\n",
    "for i in even_Num(10):\n",
    "    print(i)"
   ]
  },
  {
   "cell_type": "code",
   "execution_count": 41,
   "id": "cc0c2533-3c52-42b6-b409-827e65dc32c4",
   "metadata": {},
   "outputs": [
    {
     "name": "stdout",
     "output_type": "stream",
     "text": [
      "2\n",
      "3\n",
      "5\n",
      "7\n",
      "11\n",
      "13\n",
      "17\n",
      "19\n",
      "23\n",
      "29\n",
      "31\n",
      "37\n",
      "41\n",
      "43\n",
      "47\n",
      "53\n",
      "59\n",
      "61\n",
      "67\n",
      "71\n"
     ]
    }
   ],
   "source": [
    "#Q-5. Create a generator function for prime numbers less than 1000. Use the next() method to print the first 20 prime numbers.\n",
    "def primeNo():\n",
    "    for i in range(2,1000):\n",
    "        flag=0\n",
    "        for j in range(2,i):\n",
    "            if i%j==0:\n",
    "                flag=1;\n",
    "        if flag==0:\n",
    "            yield i\n",
    "obj=primeNo()\n",
    "\n",
    "for i in range(20):\n",
    "    print(next(obj))"
   ]
  },
  {
   "cell_type": "code",
   "execution_count": 14,
   "id": "962b64f3-1206-48c7-815a-304b20f06c50",
   "metadata": {},
   "outputs": [
    {
     "name": "stdout",
     "output_type": "stream",
     "text": [
      "0 1 1 2 3 5 8 13 21 34 "
     ]
    }
   ],
   "source": [
    "#Q-6. Write a python program to print the first 10 Fibonacci numbers using a while loop.\n",
    "a=0\n",
    "b=1\n",
    "for i in range(10):\n",
    "    print (a,end=\" \")\n",
    "    c=a+b\n",
    "    a=b\n",
    "    b=c"
   ]
  },
  {
   "cell_type": "code",
   "execution_count": 20,
   "id": "0fc29879-17aa-4c7e-b77c-745248008205",
   "metadata": {},
   "outputs": [
    {
     "data": {
      "text/plain": [
       "['p', 'w', 's', 'k', 'i', 'l', 'l', 's']"
      ]
     },
     "execution_count": 20,
     "metadata": {},
     "output_type": "execute_result"
    }
   ],
   "source": [
    "#Q-7. Write a List Comprehension to iterate through the given string: ‘pwskills’\n",
    "string=\"pwskills\"\n",
    "[i for i in string]"
   ]
  },
  {
   "cell_type": "code",
   "execution_count": 26,
   "id": "abcceafb-3362-4d23-9a22-2932e4546d98",
   "metadata": {},
   "outputs": [
    {
     "name": "stdin",
     "output_type": "stream",
     "text": [
      "Enter any number 121\n"
     ]
    },
    {
     "name": "stdout",
     "output_type": "stream",
     "text": [
      "121 is a Palindrome Number\n"
     ]
    }
   ],
   "source": [
    "#Q-8. Write a python program to check whether a given number is Palindrome or not using a while loop\n",
    "num=int(input(\"Enter any number\"))\n",
    "rev=0\n",
    "temp=num\n",
    "while num>0:\n",
    "    r=num%10\n",
    "    rev=rev*10+r\n",
    "    num=int(num/10)\n",
    "if rev==temp:\n",
    "    print(temp,\"is a Palindrome Number\")\n",
    "else:\n",
    "    print(temp,\"is not a Palindrome Number\")"
   ]
  },
  {
   "cell_type": "code",
   "execution_count": 29,
   "id": "66cc13ae-7556-481b-b380-0f03b118c1b5",
   "metadata": {
    "collapsed": true,
    "jupyter": {
     "outputs_hidden": true
    },
    "tags": []
   },
   "outputs": [
    {
     "data": {
      "text/plain": [
       "[1,\n",
       " 3,\n",
       " 5,\n",
       " 7,\n",
       " 9,\n",
       " 11,\n",
       " 13,\n",
       " 15,\n",
       " 17,\n",
       " 19,\n",
       " 21,\n",
       " 23,\n",
       " 25,\n",
       " 27,\n",
       " 29,\n",
       " 31,\n",
       " 33,\n",
       " 35,\n",
       " 37,\n",
       " 39,\n",
       " 41,\n",
       " 43,\n",
       " 45,\n",
       " 47,\n",
       " 49,\n",
       " 51,\n",
       " 53,\n",
       " 55,\n",
       " 57,\n",
       " 59,\n",
       " 61,\n",
       " 63,\n",
       " 65,\n",
       " 67,\n",
       " 69,\n",
       " 71,\n",
       " 73,\n",
       " 75,\n",
       " 77,\n",
       " 79,\n",
       " 81,\n",
       " 83,\n",
       " 85,\n",
       " 87,\n",
       " 89,\n",
       " 91,\n",
       " 93,\n",
       " 95,\n",
       " 97,\n",
       " 99]"
      ]
     },
     "execution_count": 29,
     "metadata": {},
     "output_type": "execute_result"
    }
   ],
   "source": [
    "#Q-9.  Write a code to print odd numbers from 1 to 100 using list comprehension.\n",
    "[i for i in range(1,101)]\n",
    "[i for i in range(1,101) if i%2!=0]"
   ]
  },
  {
   "cell_type": "code",
   "execution_count": null,
   "id": "19471a0d-8bdb-467e-ae93-920ab3af7979",
   "metadata": {},
   "outputs": [],
   "source": []
  }
 ],
 "metadata": {
  "kernelspec": {
   "display_name": "Python 3 (ipykernel)",
   "language": "python",
   "name": "python3"
  },
  "language_info": {
   "codemirror_mode": {
    "name": "ipython",
    "version": 3
   },
   "file_extension": ".py",
   "mimetype": "text/x-python",
   "name": "python",
   "nbconvert_exporter": "python",
   "pygments_lexer": "ipython3",
   "version": "3.10.8"
  }
 },
 "nbformat": 4,
 "nbformat_minor": 5
}
