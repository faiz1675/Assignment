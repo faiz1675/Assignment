{
 "cells": [
  {
   "cell_type": "code",
   "execution_count": 16,
   "id": "a7e0f9f7-a923-49a4-835b-df60837e89de",
   "metadata": {},
   "outputs": [
    {
     "name": "stdout",
     "output_type": "stream",
     "text": [
      "[('Virat Kohli', 24936), ('Jack Kallis', 25534), ('Ricky Ponting', 27483), ('Sachin Tendulkar', 34357)]\n"
     ]
    }
   ],
   "source": [
    "#Q-1. Create a python program to sort the given list of tuples based on integer value using a lambda function\n",
    "ls=[('Sachin Tendulkar', 34357), ('Ricky Ponting', 27483), ('Jack Kallis', 25534), ('Virat Kohli', 24936)]\n",
    "ls.sort(key=lambda x : x[1])\n",
    "print(ls)"
   ]
  },
  {
   "cell_type": "code",
   "execution_count": 1,
   "id": "15eb3927-01cf-4040-a8fa-61b6d4444307",
   "metadata": {},
   "outputs": [
    {
     "data": {
      "text/plain": [
       "[1, 4, 9, 16, 25, 36, 49, 64, 81, 100]"
      ]
     },
     "execution_count": 1,
     "metadata": {},
     "output_type": "execute_result"
    }
   ],
   "source": [
    "#Q-2.Write a Python Program to find the squares of all the numbers in the given list of integers using lambda and map functions\n",
    "l=[1,2,3,4,5,6,7,8,9,10]\n",
    "list(map(lambda x:x**2,l))\n"
   ]
  },
  {
   "cell_type": "code",
   "execution_count": 2,
   "id": "7e8bb95b-3ee0-4af8-a5d5-28fb33ff4c8b",
   "metadata": {},
   "outputs": [
    {
     "data": {
      "text/plain": [
       "['1', '2', '3', '4', '5', '6', '7', '8', '9', '10']"
      ]
     },
     "execution_count": 2,
     "metadata": {},
     "output_type": "execute_result"
    }
   ],
   "source": [
    "#Q-3. Write a python program to convert the given list of integers into a tuple of strings. Use map and lambda functions\n",
    "s=[1,2,3,4,5,6,7,8,9,10]\n",
    "list(map(lambda x: str(x),s))"
   ]
  },
  {
   "cell_type": "code",
   "execution_count": 7,
   "id": "44b99246-db2e-4ffe-a9dd-405043e2f141",
   "metadata": {},
   "outputs": [
    {
     "data": {
      "text/plain": [
       "15511210043330985984000000"
      ]
     },
     "execution_count": 7,
     "metadata": {},
     "output_type": "execute_result"
    }
   ],
   "source": [
    "#Q-4. Write a python program using reduce function to compute the product of a list containing numbers from 1 to 25\n",
    "l1=[]\n",
    "for i in range(1,26):\n",
    "    l1.append(i)\n",
    "\n",
    "from functools import reduce\n",
    "reduce(lambda x,y : x*y, l1)\n"
   ]
  },
  {
   "cell_type": "code",
   "execution_count": 9,
   "id": "d8c417f8-a7d5-4ae7-94e5-6f07a63b2f69",
   "metadata": {},
   "outputs": [
    {
     "data": {
      "text/plain": [
       "[6, 60, 90, 120]"
      ]
     },
     "execution_count": 9,
     "metadata": {},
     "output_type": "execute_result"
    }
   ],
   "source": [
    "#Q-5. Write a python program to filter the numbers in a given list that are divisible by 2 and 3 using the filter function\n",
    "l2=[2,3,6,9,27,60,90,120,55,46]\n",
    "list(filter(lambda x: x%2==0 and x%3==0,l2))"
   ]
  },
  {
   "cell_type": "code",
   "execution_count": 12,
   "id": "4bcd770d-d8f2-4473-a251-29ec81df4377",
   "metadata": {},
   "outputs": [
    {
     "data": {
      "text/plain": [
       "['php', 'aba', 'radar', 'level']"
      ]
     },
     "execution_count": 12,
     "metadata": {},
     "output_type": "execute_result"
    }
   ],
   "source": [
    "#Q-6. Write a python program to find palindromes in the given list of strings using lambda and filter function\n",
    "l3=['python','php','aba','radar','level']\n",
    "list(filter(lambda x: x[::-1]==x,l3))"
   ]
  },
  {
   "cell_type": "code",
   "execution_count": null,
   "id": "3047c828-c63c-431e-a205-6ce4b4c6e347",
   "metadata": {},
   "outputs": [],
   "source": []
  }
 ],
 "metadata": {
  "kernelspec": {
   "display_name": "Python 3 (ipykernel)",
   "language": "python",
   "name": "python3"
  },
  "language_info": {
   "codemirror_mode": {
    "name": "ipython",
    "version": 3
   },
   "file_extension": ".py",
   "mimetype": "text/x-python",
   "name": "python",
   "nbconvert_exporter": "python",
   "pygments_lexer": "ipython3",
   "version": "3.10.8"
  }
 },
 "nbformat": 4,
 "nbformat_minor": 5
}
