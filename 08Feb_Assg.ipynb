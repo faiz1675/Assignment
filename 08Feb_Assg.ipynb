{
 "cells": [
  {
   "cell_type": "markdown",
   "id": "fbade364-20b6-4fe4-9023-e555375f961b",
   "metadata": {},
   "source": [
    "Q-1.  What is Abstraction in OOps? Explain with an example\n",
    "Ans- Abstraction is used to hide the internal functionality of the function from the users. The users only interact with the basic implementation of the function, but inner working is hidden. User is familiar with that \"what function does\" but they don't know \"how it does.\"\n",
    "\n",
    "Example-\n",
    "from abc import ABC, abstractmethod   \n",
    "class Car(ABC):   \n",
    "    def mileage(self):   \n",
    "        pass  \n",
    "  \n",
    "class Tesla(Car):   \n",
    "    def mileage(self):   \n",
    "        print(\"The mileage is 30kmph\") \n",
    "\n",
    "t1=Tesla()\n",
    "t1.mileage()"
   ]
  },
  {
   "cell_type": "markdown",
   "id": "a9ff581a-9b0b-4eda-a430-aa7749c1f621",
   "metadata": {},
   "source": [
    "Q-2.  Differentiate between Abstraction and Encapsulation. Explain with an example\n",
    "Ans- Abstraction is defined as a process of hiding the implementation details of a system from the user. Thus, by using abstraction, we provided only the functionality of the system to the user. Consequently, the user will have information on what the system does, but not on how the system does it.\n",
    "\n",
    "Example-\n",
    "from abc import ABC, abstractmethod   \n",
    "class Car(ABC):   \n",
    "    def mileage(self):   \n",
    "        pass  \n",
    "  \n",
    "class Tesla(Car):   \n",
    "    def mileage(self):   \n",
    "        print(\"The mileage is 30kmph\") \n",
    "\n",
    "t1=Tesla()\n",
    "t1.mileage()\n",
    "\n",
    "Encapsulation is defined as a method by which data wrapping is done into a single unit. It is used in wrapping up the data and the code acting on the data together as a single unit\n",
    "\n",
    "Example-\n",
    "\n",
    "class Employee:\n",
    "    def __init__(self):\n",
    "        self.__empid=101\n",
    "        self.__empName=\"Sumit\"\n",
    "    def showDetails(self):\n",
    "        print(self.__empid,self.empName)\n",
    "\n",
    "obj=Employee()\n",
    "obj.showDetails() "
   ]
  },
  {
   "cell_type": "markdown",
   "id": "1639965b-333d-4b87-8f2e-64f5394fddf8",
   "metadata": {},
   "source": [
    "Q-3. What is abc module in python? Why is it used?\n",
    "Ans- The 'abc' module in Python library provides the infrastructure for defining custom abstract base classes.\n",
    "'abc' works by marking methods of the base class as abstract. This is done by @abstractmethod decorator. A concrete class which is a sub class of such abstract base class then implements the abstract base by overriding its abstract methods.\n",
    "This module provides the metaclass ABCMeta for defining ABCs and a helper class ABC to alternatively define ABCs through inheritance"
   ]
  },
  {
   "cell_type": "markdown",
   "id": "32edbc1c-9bd5-4a7f-97bf-07cd15cd59fe",
   "metadata": {},
   "source": [
    "Q-4. How can we achieve data abstraction\n",
    "Ans- In Python, abstraction can be achieved by having/using abstract classes and methods in our programs.\n",
    "An abstract method is a method that is declared, but does not contain implementation. An abstract method in a base class identifies the functionality that should be implemented by all its subclasses\n",
    "\n",
    "Syntax-\n",
    "    from abc import ABC\n",
    "    class Class_Name(ABC)"
   ]
  },
  {
   "cell_type": "markdown",
   "id": "df234594-e768-44d0-9605-f6bcbd23b297",
   "metadata": {},
   "source": [
    "Q-5. Can we create an instance of an abstract class? Explain your answer\n",
    "Ans- Abstract classes are not complete, as they may have some methods that are not defined. So we cannot create an instance or object of an abstract class in Python. If we try to instantiate the abstract class, it raises an error."
   ]
  }
 ],
 "metadata": {
  "kernelspec": {
   "display_name": "Python 3 (ipykernel)",
   "language": "python",
   "name": "python3"
  },
  "language_info": {
   "codemirror_mode": {
    "name": "ipython",
    "version": 3
   },
   "file_extension": ".py",
   "mimetype": "text/x-python",
   "name": "python",
   "nbconvert_exporter": "python",
   "pygments_lexer": "ipython3",
   "version": "3.10.8"
  }
 },
 "nbformat": 4,
 "nbformat_minor": 5
}
